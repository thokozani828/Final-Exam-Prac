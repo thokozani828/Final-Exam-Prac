{
 "cells": [
  {
   "cell_type": "code",
   "execution_count": 10,
   "id": "8c140eeb-b993-49ae-aba6-8185105959b8",
   "metadata": {},
   "outputs": [
    {
     "name": "stdout",
     "output_type": "stream",
     "text": [
      "First 5 rows of the dataset:\n",
      "       country Code country  Year  Urban population Rural population\n",
      "0  Afghanistan          AFG  1960            724373          7898093\n",
      "1  Afghanistan          AFG  1961            763336          8026804\n",
      "2  Afghanistan          AFG  1962            805062          8163985\n",
      "3  Afghanistan          AFG  1963            849446          8308019\n",
      "4  Afghanistan          AFG  1964            896820          8458694\n"
     ]
    }
   ],
   "source": [
    "# Importing necessary libraries\n",
    "import pandas as pd\n",
    "import numpy as np\n",
    "from sklearn.preprocessing import StandardScaler\n",
    "\n",
    "\n",
    "# Load the dataset \n",
    "df = pd.read_csv('C:/Users/Admin/Desktop/Final Exam prep/urbanandruralpopulation new.csv')\n",
    "\n",
    "# Display the first few rows of the dataset\n",
    "print(\"First 5 rows of the dataset:\")\n",
    "print(df.head())"
   ]
  },
  {
   "cell_type": "code",
   "execution_count": 12,
   "id": "d0f6dafe-d48b-484c-90f6-df131bef5287",
   "metadata": {},
   "outputs": [
    {
     "name": "stdout",
     "output_type": "stream",
     "text": [
      "\n",
      "Dataset size (rows, columns):\n",
      "(14168, 5)\n"
     ]
    }
   ],
   "source": [
    "# Checking the shape of the dataset (size)\n",
    "print(\"\\nDataset size (rows, columns):\")\n",
    "print(df.shape)\n"
   ]
  },
  {
   "cell_type": "code",
   "execution_count": 13,
   "id": "590b81ec-1acf-440f-ae88-5ba6c574e1dc",
   "metadata": {},
   "outputs": [
    {
     "name": "stdout",
     "output_type": "stream",
     "text": [
      "\n",
      "Columns and data types:\n",
      "country             object\n",
      "Code country        object\n",
      "Year                 int64\n",
      "Urban population     int64\n",
      "Rural population    object\n",
      "dtype: object\n"
     ]
    }
   ],
   "source": [
    "# Display columns and their data types\n",
    "print(\"\\nColumns and data types:\")\n",
    "print(df.dtypes)"
   ]
  },
  {
   "cell_type": "code",
   "execution_count": 14,
   "id": "0b745e0b-4c9f-44cb-a5c9-4f43dc865e5b",
   "metadata": {},
   "outputs": [
    {
     "name": "stdout",
     "output_type": "stream",
     "text": [
      "\n",
      "Summary statistics for numerical columns:\n",
      "               Year  Urban population\n",
      "count  14168.000000      1.416800e+04\n",
      "mean    1990.533879      5.097131e+07\n",
      "std       17.895499      2.442102e+08\n",
      "min     1960.000000      8.590000e+02\n",
      "25%     1975.000000      2.385732e+05\n",
      "50%     1991.000000      2.029394e+06\n",
      "75%     2006.000000      8.821502e+06\n",
      "max     2021.000000      4.454153e+09\n"
     ]
    }
   ],
   "source": [
    "# Get basic statistics for numerical columns\n",
    "print(\"\\nSummary statistics for numerical columns:\")\n",
    "print(df.describe())"
   ]
  },
  {
   "cell_type": "code",
   "execution_count": 15,
   "id": "c2eff937-fffa-40e9-8b05-243495b6ec6e",
   "metadata": {},
   "outputs": [
    {
     "name": "stdout",
     "output_type": "stream",
     "text": [
      "\n",
      "Checking for missing data:\n",
      "country             0\n",
      "Code country        0\n",
      "Year                0\n",
      "Urban population    0\n",
      "Rural population    0\n",
      "dtype: int64\n"
     ]
    }
   ],
   "source": [
    "# Checking for missing data\n",
    "print(\"\\nChecking for missing data:\")\n",
    "print(df.isnull().sum())"
   ]
  },
  {
   "cell_type": "code",
   "execution_count": 17,
   "id": "ab0998fd-6b6d-4689-9d42-900c14d19076",
   "metadata": {},
   "outputs": [
    {
     "name": "stdout",
     "output_type": "stream",
     "text": [
      "\n",
      "Slicing data (rows 0-5, columns 'Year', 'Urban population', 'Rural population'):\n",
      "   Year  Urban population Rural population\n",
      "0  1960            724373          7898093\n",
      "1  1961            763336          8026804\n",
      "2  1962            805062          8163985\n",
      "3  1963            849446          8308019\n",
      "4  1964            896820          8458694\n",
      "5  1965            947332          8617815\n"
     ]
    }
   ],
   "source": [
    "# Slice the dataset - Display rows 0 to 5 and columns 'Year', 'Urban population', 'Rural population'\n",
    "print(\"\\nSlicing data (rows 0-5, columns 'Year', 'Urban population', 'Rural population'):\")\n",
    "print(df.loc[0:5, ['Year', 'Urban population', 'Rural population']])"
   ]
  },
  {
   "cell_type": "code",
   "execution_count": 20,
   "id": "51b92d5b-271f-4e53-9834-a86a790cafd2",
   "metadata": {},
   "outputs": [
    {
     "name": "stdout",
     "output_type": "stream",
     "text": [
      "\n",
      "Data after cleaning and normalization (first 5 rows):\n",
      "           country Code country  Year  Urban population Rural population\n",
      "0      Afghanistan          AFG  1960            724373          7898093\n",
      "1      Afghanistan          AFG  1961            763336          8026804\n",
      "2      Afghanistan          AFG  1962            805062          8163985\n",
      "3      Afghanistan          AFG  1963            849446          8308019\n",
      "4      Afghanistan          AFG  1964            896820          8458694\n",
      "...            ...          ...   ...               ...              ...\n",
      "14163     Zimbabwe          ZWE  2017           4755312          9995789\n",
      "14164     Zimbabwe          ZWE  2018           4848158         10204026\n",
      "14165     Zimbabwe          ZWE  2019           4945719         10408889\n",
      "14166     Zimbabwe          ZWE  2020           5052214         10617452\n",
      "14167     Zimbabwe          ZWE  2021           5166388         10827136\n",
      "\n",
      "[14168 rows x 5 columns]\n"
     ]
    }
   ],
   "source": [
    "# Data Cleaning and Preprocessing\n",
    "\n",
    "# Handling missing data - Filling missing values with mean for numerical columns only\n",
    "numeric_cols = df.select_dtypes(include=[np.number]).columns  # Select numeric columns\n",
    "df[numeric_cols] = df[numeric_cols].fillna(df[numeric_cols].mean())\n",
    "\n",
    "# For non-numeric columns, you can fill missing values differently, e.g., with mode (most frequent value)\n",
    "non_numeric_cols = df.select_dtypes(exclude=[np.number]).columns\n",
    "for col in non_numeric_cols:\n",
    "    df[col].fillna(df[col].mode()[0], inplace=True)  # Fill missing values with the most frequent value (mode)\n",
    "\n",
    "# Now continue with your normalization step\n",
    "# Normalizing 'Urban population' and 'Rural population' columns if they exist and are numeric\n",
    "if 'Urban population' in numeric_cols and 'Rural population' in numeric_cols:\n",
    "    scaler = StandardScaler()\n",
    "    df[['Urban population', 'Rural population']] = scaler.fit_transform(df[['Urban population', 'Rural population']])\n",
    "\n",
    "# Checking if the data is now clean\n",
    "print(\"\\nData after cleaning and normalization (first 5 rows):\")\n",
    "print(df)\n"
   ]
  },
  {
   "cell_type": "code",
   "execution_count": 21,
   "id": "1c7fd768-08de-42ab-be53-403ea020b023",
   "metadata": {},
   "outputs": [],
   "source": [
    "# Saving the cleaned dataset\n",
    "df.to_csv('cleaned_dataset.csv', index=False)"
   ]
  },
  {
   "cell_type": "code",
   "execution_count": null,
   "id": "cfd01d66-8932-4e2f-bcdc-05cd53a9d019",
   "metadata": {},
   "outputs": [],
   "source": []
  }
 ],
 "metadata": {
  "kernelspec": {
   "display_name": "Python 3 (ipykernel)",
   "language": "python",
   "name": "python3"
  },
  "language_info": {
   "codemirror_mode": {
    "name": "ipython",
    "version": 3
   },
   "file_extension": ".py",
   "mimetype": "text/x-python",
   "name": "python",
   "nbconvert_exporter": "python",
   "pygments_lexer": "ipython3",
   "version": "3.11.7"
  }
 },
 "nbformat": 4,
 "nbformat_minor": 5
}
